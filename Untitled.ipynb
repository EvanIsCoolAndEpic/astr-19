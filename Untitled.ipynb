{
 "cells": [
  {
   "cell_type": "code",
   "execution_count": null,
   "id": "fad974cc-9c9e-43e7-b2ed-2617b7e18b9a",
   "metadata": {},
   "outputs": [],
   "source": [
    "import matplotlib.pyplot as plt\n",
    "import numpy as np"
   ]
  },
  {
   "cell_type": "code",
   "execution_count": null,
   "id": "ceefc13a-bbec-4789-a493-af768c97dd23",
   "metadata": {},
   "outputs": [],
   "source": [
    "n = 500\n",
    "\n",
    "x = np.random.randn(n)\n",
    "\n",
    "width = .5\n",
    "histmin = np.floor(min(x))\n",
    "histmax = np.ceil(max(x))+width)\n",
    "\n",
    "bins = np.arange(histmin,histmax,width)\n"
   ]
  }
 ],
 "metadata": {
  "kernelspec": {
   "display_name": "Python 3 (ipykernel)",
   "language": "python",
   "name": "python3"
  },
  "language_info": {
   "codemirror_mode": {
    "name": "ipython",
    "version": 3
   },
   "file_extension": ".py",
   "mimetype": "text/x-python",
   "name": "python",
   "nbconvert_exporter": "python",
   "pygments_lexer": "ipython3",
   "version": "3.13.5"
  }
 },
 "nbformat": 4,
 "nbformat_minor": 5
}
