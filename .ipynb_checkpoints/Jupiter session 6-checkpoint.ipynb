{
 "cells": [
  {
   "cell_type": "code",
   "execution_count": 8,
   "id": "b002d558-21a9-42d7-8008-986100baa09d",
   "metadata": {},
   "outputs": [],
   "source": [
    "import numpy as np"
   ]
  },
  {
   "cell_type": "markdown",
   "id": "86a14cbd-8699-4978-844a-da9ddbe99f69",
   "metadata": {},
   "source": [
    "We're going to start with the *sin* function. this will return the sin of x, the input."
   ]
  },
  {
   "cell_type": "code",
   "execution_count": 9,
   "id": "f208d7b7-9ab0-4de5-bb60-4cb069dd0474",
   "metadata": {},
   "outputs": [],
   "source": [
    "def sin(x):\n",
    "    return np.sin(x)"
   ]
  },
  {
   "cell_type": "markdown",
   "id": "10301846-955a-4bae-9e11-d8643896d133",
   "metadata": {},
   "source": [
    "We'll do the same thing with the cosine of x."
   ]
  },
  {
   "cell_type": "code",
   "execution_count": 10,
   "id": "83f6c5f1-ae0b-4732-980b-96119fdc3ceb",
   "metadata": {},
   "outputs": [],
   "source": [
    "def cos(x):\n",
    "    return np.cos(x)"
   ]
  },
  {
   "cell_type": "markdown",
   "id": "c31bfb20-114c-406e-8117-d2632f604bbf",
   "metadata": {},
   "source": [
    "now, we'll have to create a linspace for these, in where we equally space out a thousand numbers for x and then take the sin or cos of them."
   ]
  },
  {
   "cell_type": "code",
   "execution_count": 15,
   "id": "106dc35c-39f2-4df9-8dea-ac7939206a65",
   "metadata": {},
   "outputs": [],
   "source": [
    "x = np.linspace(0, 2*np.pi, 1000)\n",
    "y_sin = sin(x)\n",
    "y_cos = cos(x)"
   ]
  },
  {
   "cell_type": "markdown",
   "id": "ebbc33ef-75c1-4042-b6a4-66609e6418e2",
   "metadata": {},
   "source": [
    "Then, lets just show the first 10 values of each array for x, y_sin, and y_cos."
   ]
  },
  {
   "cell_type": "code",
   "execution_count": 16,
   "id": "b0bf07d1-b982-4eaf-b4de-9066d4dd23bc",
   "metadata": {
    "scrolled": true
   },
   "outputs": [
    {
     "name": "stdout",
     "output_type": "stream",
     "text": [
      "0 0.0 1.0\n",
      "1 0.006289433316067751 0.9999802213186832\n",
      "2 0.012578617838741058 0.9999208860571255\n",
      "3 0.01886730478446709 0.9998219965624732\n",
      "4 0.025155245389375847 0.9996835567465339\n",
      "5 0.0314421909191206 0.9995055720856215\n",
      "6 0.03772789267871718 0.99928804962034\n",
      "7 0.04401210202238166 0.9990309979553044\n",
      "8 0.05029457036336618 0.9987344272588006\n",
      "9 0.056575049183792345 0.9983983492623831\n"
     ]
    }
   ],
   "source": [
    "for i in range(10):\n",
    "    print(i, y_sin[i], y_cos[i])"
   ]
  },
  {
   "cell_type": "code",
   "execution_count": null,
   "id": "680aaaf0-935e-4890-9638-95ed1d76511e",
   "metadata": {},
   "outputs": [],
   "source": []
  }
 ],
 "metadata": {
  "kernelspec": {
   "display_name": "Python 3 (ipykernel)",
   "language": "python",
   "name": "python3"
  },
  "language_info": {
   "codemirror_mode": {
    "name": "ipython",
    "version": 3
   },
   "file_extension": ".py",
   "mimetype": "text/x-python",
   "name": "python",
   "nbconvert_exporter": "python",
   "pygments_lexer": "ipython3",
   "version": "3.13.5"
  }
 },
 "nbformat": 4,
 "nbformat_minor": 5
}
